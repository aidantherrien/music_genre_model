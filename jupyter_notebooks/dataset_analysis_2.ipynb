{
 "cells": [
  {
   "cell_type": "code",
   "execution_count": 1,
   "id": "b8add5a6-ba96-42a5-8b67-da0eaa230768",
   "metadata": {},
   "outputs": [
    {
     "name": "stdout",
     "output_type": "stream",
     "text": [
      "genre\n",
      "0.0     747\n",
      "1.0     585\n",
      "2.0     777\n",
      "3.0     599\n",
      "4.0     717\n",
      "5.0     780\n",
      "6.0     714\n",
      "7.0     750\n",
      "8.0     741\n",
      "9.0     558\n",
      "10.0    717\n",
      "11.0    741\n",
      "12.0    759\n",
      "13.0    738\n",
      "14.0    768\n",
      "15.0    747\n",
      "16.0    774\n",
      "17.0    693\n",
      "18.0    687\n",
      "19.0    738\n",
      "20.0    735\n",
      "21.0    747\n",
      "22.0    747\n",
      "Name: count, dtype: int64\n"
     ]
    }
   ],
   "source": [
    "import pandas as pd\n",
    "df = pd.read_csv(r\"C:\\Users\\aidan\\Documents\\VSCode Projects\\music_genre_model\\data\\features\\features_v8.csv\")\n",
    "print(df[\"genre\"].value_counts().sort_index())\n"
   ]
  }
 ],
 "metadata": {
  "kernelspec": {
   "display_name": "Python 3.11 (venv)",
   "language": "python",
   "name": "venv3.11"
  },
  "language_info": {
   "codemirror_mode": {
    "name": "ipython",
    "version": 3
   },
   "file_extension": ".py",
   "mimetype": "text/x-python",
   "name": "python",
   "nbconvert_exporter": "python",
   "pygments_lexer": "ipython3",
   "version": "3.11.5"
  }
 },
 "nbformat": 4,
 "nbformat_minor": 5
}
